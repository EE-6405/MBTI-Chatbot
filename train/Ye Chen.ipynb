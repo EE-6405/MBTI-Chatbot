{
 "cells": [
  {
   "cell_type": "code",
   "execution_count": 5,
   "id": "a6946245-9bf1-46dc-acf9-4582cdf16c9b",
   "metadata": {
    "tags": []
   },
   "outputs": [],
   "source": [
    "import matplotlib.pyplot as plt\n",
    "import seaborn as sns\n",
    "import pandas as pd"
   ]
  },
  {
   "cell_type": "code",
   "execution_count": null,
   "id": "37e9ecee-fc8b-4e6b-b9ac-1671fb7d7808",
   "metadata": {},
   "outputs": [],
   "source": [
    "data = pd.read_csv('../autodl-tmp/mbti_1.csv')\n",
    "\n",
    "type_counts = data['type'].value_counts(normalize=True).sort_index() * 100\n",
    "\n",
    "palette = sns.color_palette(\"hsv\", len(type_counts))\n",
    "\n",
    "plt.figure(figsize=(12, 9))\n",
    "sns.barplot(x=type_counts.index, y=type_counts.values, palette=palette)\n",
    "\n",
    "plt.ylabel('Percentage (%)')\n",
    "plt.xlabel('MBTI Type')\n",
    "\n",
    "plt.title('MBTI Type Distribution')\n",
    "\n",
    "plt.show()"
   ]
  },
  {
   "cell_type": "code",
   "execution_count": 4,
   "id": "5a29d29e-61a7-4baa-8a49-26fac584979e",
   "metadata": {
    "tags": []
   },
   "outputs": [
    {
     "name": "stderr",
     "output_type": "stream",
     "text": [
      "/tmp/ipykernel_927/4036883908.py:12: FutureWarning: \n",
      "\n",
      "Passing `palette` without assigning `hue` is deprecated and will be removed in v0.14.0. Assign the `x` variable to `hue` and set `legend=False` for the same effect.\n",
      "\n",
      "  sns.barplot(x=type_counts.index, y=type_counts.values, palette=palette)\n"
     ]
    },
    {
     "data": {
      "image/png": "[encoded data removed]",
      "text/plain": [
       "<Figure size 1200x900 with 1 Axes>"
      ]
     },
     "metadata": {},
     "output_type": "display_data"
    }
   ],
   "source": [
    "data = pd.read_csv('../autodl-tmp/MBTI 500.csv')\n",
    "\n",
    "type_counts = data['type'].value_counts(normalize=True).sort_index() * 100\n",
    "\n",
    "palette = sns.color_palette(\"hsv\", len(type_counts))\n",
    "\n",
    "plt.figure(figsize=(12, 9))\n",
    "sns.barplot(x=type_counts.index, y=type_counts.values, palette=palette)\n",
    "\n",
    "plt.ylabel('Percentage (%)')\n",
    "plt.xlabel('MBTI Type')\n",
    "\n",
    "plt.title('MBTI Type Distribution')\n",
    "\n",
    "plt.show()"
   ]
  },
  {
   "cell_type": "code",
   "execution_count": 6,
   "id": "5b5a5eec-e146-4579-8cce-be6658925f27",
   "metadata": {
    "tags": []
   },
   "outputs": [
    {
     "data": {
      "text/html": [
       "<div>\n",
       "<style scoped>\n",
       "    .dataframe tbody tr th:only-of-type {\n",
       "        vertical-align: middle;\n",
       "    }\n",
       "\n",
       "    .dataframe tbody tr th {\n",
       "        vertical-align: top;\n",
       "    }\n",
       "\n",
       "    .dataframe thead th {\n",
       "        text-align: right;\n",
       "    }\n",
       "</style>\n",
       "<table border=\"1\" class=\"dataframe\">\n",
       "  <thead>\n",
       "    <tr style=\"text-align: right;\">\n",
       "      <th></th>\n",
       "      <th>posts</th>\n",
       "      <th>type</th>\n",
       "      <th>filtered_posts</th>\n",
       "    </tr>\n",
       "  </thead>\n",
       "  <tbody>\n",
       "    <tr>\n",
       "      <th>0</th>\n",
       "      <td>know intj tool use interaction people excuse a...</td>\n",
       "      <td>INTJ</td>\n",
       "      <td>know intj tool use interaction people excuse a...</td>\n",
       "    </tr>\n",
       "    <tr>\n",
       "      <th>1</th>\n",
       "      <td>rap music ehh opp yeah know valid well know fa...</td>\n",
       "      <td>INTJ</td>\n",
       "      <td>rap music ehh yeah know valid well know fact p...</td>\n",
       "    </tr>\n",
       "    <tr>\n",
       "      <th>2</th>\n",
       "      <td>preferably p hd low except wew lad video p min...</td>\n",
       "      <td>INTJ</td>\n",
       "      <td>preferably p hd low except lad video p mind go...</td>\n",
       "    </tr>\n",
       "    <tr>\n",
       "      <th>3</th>\n",
       "      <td>drink like wish could drink red wine give head...</td>\n",
       "      <td>INTJ</td>\n",
       "      <td>drink like wish could drink red wine give head...</td>\n",
       "    </tr>\n",
       "    <tr>\n",
       "      <th>4</th>\n",
       "      <td>space program ah bad deal meing freelance max ...</td>\n",
       "      <td>INTJ</td>\n",
       "      <td>space program ah bad deal meing freelance max ...</td>\n",
       "    </tr>\n",
       "  </tbody>\n",
       "</table>\n",
       "</div>"
      ],
      "text/plain": [
       "                                               posts  type  \\\n",
       "0  know intj tool use interaction people excuse a...  INTJ   \n",
       "1  rap music ehh opp yeah know valid well know fa...  INTJ   \n",
       "2  preferably p hd low except wew lad video p min...  INTJ   \n",
       "3  drink like wish could drink red wine give head...  INTJ   \n",
       "4  space program ah bad deal meing freelance max ...  INTJ   \n",
       "\n",
       "                                      filtered_posts  \n",
       "0  know intj tool use interaction people excuse a...  \n",
       "1  rap music ehh yeah know valid well know fact p...  \n",
       "2  preferably p hd low except lad video p mind go...  \n",
       "3  drink like wish could drink red wine give head...  \n",
       "4  space program ah bad deal meing freelance max ...  "
      ]
     },
     "execution_count": 6,
     "metadata": {},
     "output_type": "execute_result"
    }
   ],
   "source": [
    "import pandas as pd\n",
    "\n",
    "from collections import defaultdict\n",
    "import re\n",
    "\n",
    "# Function to clean and tokenize text\n",
    "def tokenize(text):\n",
    "    # Remove URLs and non-alphanumeric characters\n",
    "    text = re.sub(r'http\\S+|[^a-zA-Z0-9\\s]', '', text)\n",
    "    # Convert to lowercase and split into words\n",
    "    return text.lower().split()\n",
    "\n",
    "# Dictionary to store the count of rows in which each word appears\n",
    "word_count = defaultdict(int)\n",
    "\n",
    "# Process each row in the dataset\n",
    "for post in data['posts']:\n",
    "    # Tokenize the post\n",
    "    words = set(tokenize(post))  # Using set to ensure each word is counted once per row\n",
    "    # Update word counts\n",
    "    for word in words:\n",
    "        word_count[word] += 1\n",
    "\n",
    "# Filter out words that appear in less than 69 rows\n",
    "filtered_words = {word: count for word, count in word_count.items() if count >= 69}\n",
    "\n",
    "# Display some of the filtered words as a sample\n",
    "list(filtered_words.items())[:10]\n",
    "\n",
    "\n",
    "# Function to filter words in a text based on the filtered words set, while keeping \"|||\"\n",
    "def filter_text_preserve_delimiter(text, filtered_words_set):\n",
    "    # Split the text by \"|||\" to preserve it in the final text\n",
    "    posts = text.split('|||')\n",
    "    # Filter each post\n",
    "    filtered_posts = [' '.join([word for word in tokenize(post) if word in filtered_words_set]) for post in posts]\n",
    "    # Join the filtered posts with \"|||\"\n",
    "    return '|||'.join(filtered_posts)\n",
    "\n",
    "# Apply the filter to each row in the 'posts' column while preserving \"|||\"\n",
    "data['filtered_posts'] = data['posts'].apply(lambda x: filter_text_preserve_delimiter(x, set(filtered_words)))\n",
    "\n",
    "# Display the first few rows of the updated dataset to show the filtered posts with \"|||\" preserved\n",
    "data.head()"
   ]
  },
  {
   "cell_type": "code",
   "execution_count": 7,
   "id": "9a225224-1c0d-4c49-a5b3-d936c05a0839",
   "metadata": {
    "tags": []
   },
   "outputs": [
    {
     "data": {
      "text/html": [
       "<div>\n",
       "<style scoped>\n",
       "    .dataframe tbody tr th:only-of-type {\n",
       "        vertical-align: middle;\n",
       "    }\n",
       "\n",
       "    .dataframe tbody tr th {\n",
       "        vertical-align: top;\n",
       "    }\n",
       "\n",
       "    .dataframe thead th {\n",
       "        text-align: right;\n",
       "    }\n",
       "</style>\n",
       "<table border=\"1\" class=\"dataframe\">\n",
       "  <thead>\n",
       "    <tr style=\"text-align: right;\">\n",
       "      <th></th>\n",
       "      <th>posts</th>\n",
       "      <th>type</th>\n",
       "      <th>filtered_posts</th>\n",
       "    </tr>\n",
       "  </thead>\n",
       "  <tbody>\n",
       "    <tr>\n",
       "      <th>0</th>\n",
       "      <td>know intj tool use interaction people excuse a...</td>\n",
       "      <td>INTJ</td>\n",
       "      <td>know intj tool use interaction people excuse a...</td>\n",
       "    </tr>\n",
       "    <tr>\n",
       "      <th>1</th>\n",
       "      <td>rap music ehh opp yeah know valid well know fa...</td>\n",
       "      <td>INTJ</td>\n",
       "      <td>rap music ehh yeah know valid well know fact p...</td>\n",
       "    </tr>\n",
       "    <tr>\n",
       "      <th>2</th>\n",
       "      <td>preferably p hd low except wew lad video p min...</td>\n",
       "      <td>INTJ</td>\n",
       "      <td>preferably p hd low except lad video p mind go...</td>\n",
       "    </tr>\n",
       "    <tr>\n",
       "      <th>3</th>\n",
       "      <td>drink like wish could drink red wine give head...</td>\n",
       "      <td>INTJ</td>\n",
       "      <td>drink like wish could drink red wine give head...</td>\n",
       "    </tr>\n",
       "    <tr>\n",
       "      <th>4</th>\n",
       "      <td>space program ah bad deal meing freelance max ...</td>\n",
       "      <td>INTJ</td>\n",
       "      <td>space program ah bad deal meing freelance max ...</td>\n",
       "    </tr>\n",
       "  </tbody>\n",
       "</table>\n",
       "</div>"
      ],
      "text/plain": [
       "                                               posts  type  \\\n",
       "0  know intj tool use interaction people excuse a...  INTJ   \n",
       "1  rap music ehh opp yeah know valid well know fa...  INTJ   \n",
       "2  preferably p hd low except wew lad video p min...  INTJ   \n",
       "3  drink like wish could drink red wine give head...  INTJ   \n",
       "4  space program ah bad deal meing freelance max ...  INTJ   \n",
       "\n",
       "                                      filtered_posts  \n",
       "0  know intj tool use interaction people excuse a...  \n",
       "1  rap music ehh yeah know valid well know fact p...  \n",
       "2  preferably p hd low except lad video p mind go...  \n",
       "3  drink like wish could drink red wine give head...  \n",
       "4  space program ah bad deal meing freelance max ...  "
      ]
     },
     "execution_count": 7,
     "metadata": {},
     "output_type": "execute_result"
    }
   ],
   "source": [
    "# Replace all occurrences of \"|||\" with an empty string in the 'filtered_posts' column\n",
    "data['filtered_posts'] = data['filtered_posts'].str.replace('|||', '', regex=False)\n",
    "\n",
    "# Display the first few rows of the updated dataset to show the filtered posts without \"|||\"\n",
    "data.head()"
   ]
  },
  {
   "cell_type": "code",
   "execution_count": 8,
   "id": "f2944102-c6ab-40d0-ad09-be70d3d1c7ab",
   "metadata": {
    "tags": []
   },
   "outputs": [
    {
     "name": "stdout",
     "output_type": "stream",
     "text": [
      "                                                posts  type  \\\n",
      "0   know intj tool use interaction people excuse a...  INTJ   \n",
      "1   rap music ehh opp yeah know valid well know fa...  INTJ   \n",
      "2   preferably p hd low except wew lad video p min...  INTJ   \n",
      "3   drink like wish could drink red wine give head...  INTJ   \n",
      "4   space program ah bad deal meing freelance max ...  INTJ   \n",
      "5   loose stop overthinking everything ruin friend...  INTJ   \n",
      "6   often men one put chance get burn otherwise no...  INTJ   \n",
      "7   early definitely relate quiet self destruction...  INTJ   \n",
      "8   one full list would impossibly long quotable f...  INTJ   \n",
      "9   technique information power share unless absol...  INTJ   \n",
      "10  sure ego check except immature intjs painfully...  INTJ   \n",
      "11  personally think right avenue meet someone int...  INTJ   \n",
      "12  know beginner intermediate player want chess b...  INTJ   \n",
      "13  community plus pedophile thank lead follow get...  INTJ   \n",
      "14  waste time like nut bos level stuff well happi...  INTJ   \n",
      "15  say cool never give vibe realize plenty flaw c...  INTJ   \n",
      "16  experience support significant difference te t...  INTJ   \n",
      "17  kinesthetic social cecil perish replace person...  INTJ   \n",
      "18  eye close bitch half get sure cringeworthy bea...  INTJ   \n",
      "19  town state time weird hour away go family reun...  INTJ   \n",
      "20  mentally physically sexually abusive relations...  INTJ   \n",
      "21  think sorry step assumption someone similar si...  INTJ   \n",
      "22  hop chick say like video game girl feel antith...  INTJ   \n",
      "23  yes right world horrible place people even kno...  INTJ   \n",
      "24  effective method complete intuition amble nati...  INTJ   \n",
      "25  moment universe change way know cause moment k...  INTJ   \n",
      "26  behavioral therapy cbt kinda boil think emotio...  INTJ   \n",
      "27  select spend great deal time effort relationsh...  INTJ   \n",
      "28  bite old incorrectly prepare guess really high...  INTJ   \n",
      "29  forward dichotomy score influence function app...  INTJ   \n",
      "\n",
      "                                       filtered_posts  \n",
      "0   know intj tool use interaction people excuse a...  \n",
      "1   rap music ehh yeah know valid well know fact p...  \n",
      "2   preferably p hd low except lad video p mind go...  \n",
      "3   drink like wish could drink red wine give head...  \n",
      "4   space program ah bad deal meing freelance max ...  \n",
      "5   loose stop overthinking everything ruin friend...  \n",
      "6   often men one put chance get burn otherwise no...  \n",
      "7   early definitely relate quiet self destruction...  \n",
      "8   one full list would impossibly long fellow pri...  \n",
      "9   technique information power share unless absol...  \n",
      "10  sure ego check except immature intjs painfully...  \n",
      "11  personally think right avenue meet someone int...  \n",
      "12  know beginner intermediate player want chess b...  \n",
      "13  community plus pedophile thank lead follow get...  \n",
      "14  waste time like nut bos level stuff well happi...  \n",
      "15  say cool never give vibe realize plenty flaw c...  \n",
      "16  experience support significant difference te t...  \n",
      "17  kinesthetic social perish replace person entir...  \n",
      "18  eye close bitch half get sure cringeworthy bea...  \n",
      "19  town state time weird hour away go family reun...  \n",
      "20  mentally physically sexually abusive relations...  \n",
      "21  think sorry step assumption someone similar si...  \n",
      "22  hop chick say like video game girl feel antith...  \n",
      "23  yes right world horrible place people even kno...  \n",
      "24  effective method complete intuition nation rel...  \n",
      "25  moment universe change way know cause moment k...  \n",
      "26  behavioral therapy cbt kinda boil think emotio...  \n",
      "27  select spend great deal time effort relationsh...  \n",
      "28  bite old incorrectly prepare guess really high...  \n",
      "29  forward dichotomy score influence function app...  \n"
     ]
    }
   ],
   "source": [
    "expanded_data = data\n",
    "print(expanded_data.head(30))"
   ]
  },
  {
   "cell_type": "code",
   "execution_count": 9,
   "id": "e3013b65-03c6-4607-8b86-2a8da8bfb855",
   "metadata": {
    "tags": []
   },
   "outputs": [
    {
     "data": {
      "text/html": [
       "<div>\n",
       "<style scoped>\n",
       "    .dataframe tbody tr th:only-of-type {\n",
       "        vertical-align: middle;\n",
       "    }\n",
       "\n",
       "    .dataframe tbody tr th {\n",
       "        vertical-align: top;\n",
       "    }\n",
       "\n",
       "    .dataframe thead th {\n",
       "        text-align: right;\n",
       "    }\n",
       "</style>\n",
       "<table border=\"1\" class=\"dataframe\">\n",
       "  <thead>\n",
       "    <tr style=\"text-align: right;\">\n",
       "      <th></th>\n",
       "      <th>posts</th>\n",
       "      <th>type</th>\n",
       "      <th>filtered_posts</th>\n",
       "    </tr>\n",
       "  </thead>\n",
       "  <tbody>\n",
       "    <tr>\n",
       "      <th>0</th>\n",
       "      <td>know intj tool use interaction people excuse a...</td>\n",
       "      <td>INTJ</td>\n",
       "      <td>know intj tool use interaction people excuse a...</td>\n",
       "    </tr>\n",
       "    <tr>\n",
       "      <th>1</th>\n",
       "      <td>rap music ehh opp yeah know valid well know fa...</td>\n",
       "      <td>INTJ</td>\n",
       "      <td>rap music ehh yeah know valid well know fact p...</td>\n",
       "    </tr>\n",
       "    <tr>\n",
       "      <th>2</th>\n",
       "      <td>preferably p hd low except wew lad video p min...</td>\n",
       "      <td>INTJ</td>\n",
       "      <td>preferably p hd low except lad video p mind go...</td>\n",
       "    </tr>\n",
       "    <tr>\n",
       "      <th>3</th>\n",
       "      <td>drink like wish could drink red wine give head...</td>\n",
       "      <td>INTJ</td>\n",
       "      <td>drink like wish could drink red wine give head...</td>\n",
       "    </tr>\n",
       "    <tr>\n",
       "      <th>4</th>\n",
       "      <td>space program ah bad deal meing freelance max ...</td>\n",
       "      <td>INTJ</td>\n",
       "      <td>space program ah bad deal meing freelance max ...</td>\n",
       "    </tr>\n",
       "  </tbody>\n",
       "</table>\n",
       "</div>"
      ],
      "text/plain": [
       "                                               posts  type  \\\n",
       "0  know intj tool use interaction people excuse a...  INTJ   \n",
       "1  rap music ehh opp yeah know valid well know fa...  INTJ   \n",
       "2  preferably p hd low except wew lad video p min...  INTJ   \n",
       "3  drink like wish could drink red wine give head...  INTJ   \n",
       "4  space program ah bad deal meing freelance max ...  INTJ   \n",
       "\n",
       "                                      filtered_posts  \n",
       "0  know intj tool use interaction people excuse a...  \n",
       "1  rap music ehh yeah know valid well know fact p...  \n",
       "2  preferably p hd low except lad video p mind go...  \n",
       "3  drink like wish could drink red wine give head...  \n",
       "4  space program ah bad deal meing freelance max ...  "
      ]
     },
     "execution_count": 9,
     "metadata": {},
     "output_type": "execute_result"
    }
   ],
   "source": [
    "# Remove rows where 'filtered_posts' column is empty\n",
    "data_filtered = expanded_data[expanded_data['filtered_posts'] != '']\n",
    "\n",
    "# Display the first few rows of the updated dataset\n",
    "data_filtered.head()"
   ]
  },
  {
   "cell_type": "code",
   "execution_count": 10,
   "id": "dc66cc79-1894-4daa-a771-7b4f8598d682",
   "metadata": {
    "tags": []
   },
   "outputs": [],
   "source": [
    "import os\n",
    "import nltk"
   ]
  },
  {
   "cell_type": "code",
   "execution_count": 11,
   "id": "b59bfa58-2860-4443-838d-6b0d4d19dd19",
   "metadata": {
    "tags": []
   },
   "outputs": [],
   "source": [
    "\n",
    "LOCAL_NLTK = os.path.join(os.getcwd(), \"nltk_data\")\n",
    "os.makedirs(LOCAL_NLTK, exist_ok=True)\n",
    "\n",
    "nltk.data.path.append(LOCAL_NLTK)"
   ]
  },
  {
   "cell_type": "code",
   "execution_count": 9,
   "id": "5754cf8a-f586-41bf-a62d-166b5cb58008",
   "metadata": {
    "tags": []
   },
   "outputs": [
    {
     "data": {
      "text/plain": [
       "True"
      ]
     },
     "execution_count": 9,
     "metadata": {},
     "output_type": "execute_result"
    }
   ],
   "source": [
    "nltk.download('stopwords', download_dir=LOCAL_NLTK, quiet=True)"
   ]
  },
  {
   "cell_type": "code",
   "execution_count": 30,
   "id": "49353005-abd7-4465-b922-69217b577d8f",
   "metadata": {
    "tags": []
   },
   "outputs": [
    {
     "data": {
      "text/plain": [
       "True"
      ]
     },
     "execution_count": 30,
     "metadata": {},
     "output_type": "execute_result"
    }
   ],
   "source": [
    "nltk.download('wordnet', download_dir=LOCAL_NLTK, quiet=True)"
   ]
  },
  {
   "cell_type": "code",
   "execution_count": 12,
   "id": "73a1d70e-cc46-49be-b1e7-b7b5bfca0e16",
   "metadata": {
    "tags": []
   },
   "outputs": [
    {
     "name": "stdout",
     "output_type": "stream",
     "text": [
      "{'them', 'both', \"we're\", 'their', 'by', 'my', 'because', 'don', 'mightn', 'who', \"it'll\", 'now', 'wasn', 'all', 'under', 'nor', 'has', 'hasn', 'for', 'aren', 'as', 'down', \"she'll\", \"it's\", 'and', 'why', 'shouldn', \"wasn't\", 'me', 'such', \"you'd\", 'i', 'themselves', 'if', 'a', 'after', 'be', \"he'll\", 'we', 'is', 'during', \"they're\", 'what', \"i'm\", 'was', 'wouldn', 'at', 're', 'isn', 'its', \"they've\", \"he's\", 'were', 'it', 'you', 'about', 'ourselves', 'hadn', 'am', 'theirs', 'haven', \"doesn't\", 'y', 'been', 'when', 'had', 'won', 'over', 'through', \"shouldn't\", 'with', \"weren't\", 'couldn', \"that'll\", 'd', 'being', 'll', 'didn', 'have', \"they'd\", 'how', 'the', 'do', \"mightn't\", 'did', 'out', 'ain', 'where', \"he'd\", 'not', 'myself', 'should', 'doesn', 'whom', 'above', 't', \"didn't\", 'just', 'any', 'into', 'to', \"i'll\", 'on', 'he', 'herself', \"she'd\", \"you'll\", 'yourself', 'o', 'those', 'needn', 'other', 'that', \"we'll\", 'they', \"we'd\", \"isn't\", 'she', 'can', \"haven't\", 'until', 'there', \"hadn't\", 'between', 'an', 'up', 'yourselves', 'own', 'too', 'then', 'so', 'from', 'her', 'these', \"you've\", 've', 'your', \"needn't\", 'of', 'further', 'same', 'in', 'once', 'our', \"they'll\", \"shan't\", 'again', 'few', 'having', 'but', \"she's\", \"i've\", 'mustn', 'off', 'no', \"hasn't\", 'yours', 'against', 'him', 'here', 'very', \"mustn't\", \"couldn't\", 'his', \"it'd\", \"you're\", 's', 'ours', 'doing', 'while', 'ma', 'hers', 'than', \"wouldn't\", 'himself', 'only', 'itself', \"won't\", 'some', 'does', 'most', \"don't\", \"we've\", \"aren't\", 'are', 'm', 'below', 'before', 'shan', 'which', 'weren', \"should've\", 'each', 'or', 'this', \"i'd\", 'more', 'will'}\n"
     ]
    },
    {
     "data": {
      "text/html": [
       "<div>\n",
       "<style scoped>\n",
       "    .dataframe tbody tr th:only-of-type {\n",
       "        vertical-align: middle;\n",
       "    }\n",
       "\n",
       "    .dataframe tbody tr th {\n",
       "        vertical-align: top;\n",
       "    }\n",
       "\n",
       "    .dataframe thead th {\n",
       "        text-align: right;\n",
       "    }\n",
       "</style>\n",
       "<table border=\"1\" class=\"dataframe\">\n",
       "  <thead>\n",
       "    <tr style=\"text-align: right;\">\n",
       "      <th></th>\n",
       "      <th>posts</th>\n",
       "      <th>type</th>\n",
       "      <th>filtered_posts</th>\n",
       "    </tr>\n",
       "  </thead>\n",
       "  <tbody>\n",
       "    <tr>\n",
       "      <th>0</th>\n",
       "      <td>know intj tool use interaction people excuse a...</td>\n",
       "      <td>INTJ</td>\n",
       "      <td>know intj tool use interaction people excuse a...</td>\n",
       "    </tr>\n",
       "    <tr>\n",
       "      <th>1</th>\n",
       "      <td>rap music ehh opp yeah know valid well know fa...</td>\n",
       "      <td>INTJ</td>\n",
       "      <td>rap music ehh yeah know valid well know fact p...</td>\n",
       "    </tr>\n",
       "    <tr>\n",
       "      <th>2</th>\n",
       "      <td>preferably p hd low except wew lad video p min...</td>\n",
       "      <td>INTJ</td>\n",
       "      <td>preferably p hd low except lad video p mind go...</td>\n",
       "    </tr>\n",
       "    <tr>\n",
       "      <th>3</th>\n",
       "      <td>drink like wish could drink red wine give head...</td>\n",
       "      <td>INTJ</td>\n",
       "      <td>drink like wish could drink red wine give head...</td>\n",
       "    </tr>\n",
       "    <tr>\n",
       "      <th>4</th>\n",
       "      <td>space program ah bad deal meing freelance max ...</td>\n",
       "      <td>INTJ</td>\n",
       "      <td>space program ah bad deal meing freelance max ...</td>\n",
       "    </tr>\n",
       "  </tbody>\n",
       "</table>\n",
       "</div>"
      ],
      "text/plain": [
       "                                               posts  type  \\\n",
       "0  know intj tool use interaction people excuse a...  INTJ   \n",
       "1  rap music ehh opp yeah know valid well know fa...  INTJ   \n",
       "2  preferably p hd low except wew lad video p min...  INTJ   \n",
       "3  drink like wish could drink red wine give head...  INTJ   \n",
       "4  space program ah bad deal meing freelance max ...  INTJ   \n",
       "\n",
       "                                      filtered_posts  \n",
       "0  know intj tool use interaction people excuse a...  \n",
       "1  rap music ehh yeah know valid well know fact p...  \n",
       "2  preferably p hd low except lad video p mind go...  \n",
       "3  drink like wish could drink red wine give head...  \n",
       "4  space program ah bad deal meing freelance max ...  "
      ]
     },
     "execution_count": 12,
     "metadata": {},
     "output_type": "execute_result"
    }
   ],
   "source": [
    "import pandas as pd\n",
    "import re\n",
    "from nltk.stem import WordNetLemmatizer\n",
    "from nltk.corpus import stopwords\n",
    "import nltk\n",
    "\n",
    "\n",
    "\n",
    "lemmatizer = WordNetLemmatizer()\n",
    "stop_words = set(stopwords.words('english'))\n",
    "print(stop_words)\n",
    "\n",
    "def clean_and_preprocess(text):\n",
    "\n",
    "    text = re.sub(r'http\\S+', '', text)\n",
    "    text = re.sub(r'[^\\w\\s]', '', text)\n",
    "\n",
    "    words = text.split()\n",
    "    cleaned_text = []\n",
    "    for word in words:\n",
    "        if word.lower() not in stop_words:\n",
    "            lemmatized_word = lemmatizer.lemmatize(word.lower())\n",
    "            cleaned_text.append(lemmatized_word)\n",
    "\n",
    "    return ' '.join(cleaned_text)\n",
    "\n",
    "expanded_data['filtered_posts'] = expanded_data['filtered_posts'].apply(clean_and_preprocess)\n",
    "\n",
    "expanded_data = expanded_data[expanded_data['filtered_posts'].str.strip() != '']\n",
    "\n",
    "expanded_data.head()"
   ]
  },
  {
   "cell_type": "code",
   "execution_count": 13,
   "id": "c5714d65-911f-4164-becd-06bdc339d8da",
   "metadata": {},
   "outputs": [
    {
     "name": "stdout",
     "output_type": "stream",
     "text": [
      "                                                    posts  type  \\\n",
      "0       know intj tool use interaction people excuse a...  INTJ   \n",
      "1       rap music ehh opp yeah know valid well know fa...  INTJ   \n",
      "2       preferably p hd low except wew lad video p min...  INTJ   \n",
      "3       drink like wish could drink red wine give head...  INTJ   \n",
      "4       space program ah bad deal meing freelance max ...  INTJ   \n",
      "...                                                   ...   ...   \n",
      "106062  stay frustrate world life want take long nap w...  INFP   \n",
      "106063  fizzle around time mention sure mistake thing ...  INFP   \n",
      "106064  schedule modify hey w intp strong wing underst...  INFP   \n",
      "106065  enfj since january busy schedule able spend li...  INFP   \n",
      "106066  feel like men good problem tell parent want te...  INFP   \n",
      "\n",
      "                                           filtered_posts  \n",
      "0       know intj tool use interaction people excuse a...  \n",
      "1       rap music ehh yeah know valid well know fact p...  \n",
      "2       preferably p hd low except lad video p mind go...  \n",
      "3       drink like wish could drink red wine give head...  \n",
      "4       space program ah bad deal meing freelance max ...  \n",
      "...                                                   ...  \n",
      "106062  stay frustrate world life want take long nap w...  \n",
      "106063  fizzle around time mention sure mistake thing ...  \n",
      "106064  schedule modify hey w intp strong wing underst...  \n",
      "106065  enfj since january busy schedule able spend li...  \n",
      "106066  feel like men good problem tell parent want te...  \n",
      "\n",
      "[106067 rows x 3 columns]\n"
     ]
    }
   ],
   "source": [
    "print(expanded_data)"
   ]
  },
  {
   "cell_type": "code",
   "execution_count": null,
   "id": "b82ebcf4-a177-490e-8f70-1da68542da2e",
   "metadata": {},
   "outputs": [],
   "source": [
    "from sklearn.preprocessing import LabelEncoder\n",
    "\n",
    "data = pd.read_csv('../autodl-tmp/mbti_1.csv')\n",
    "\n",
    "\n",
    "label_encoder = LabelEncoder()\n",
    "expanded_data['encoded_labels'] = label_encoder.fit_transform(expanded_data['type']) \n",
    "\n",
    "\n",
    "X = expanded_data['filtered_posts']\n",
    "y = expanded_data['encoded_labels']"
   ]
  },
  {
   "cell_type": "code",
   "execution_count": 14,
   "id": "ad8619b6-5513-43d6-98bf-4ee4fcddd411",
   "metadata": {},
   "outputs": [],
   "source": [
    "from sklearn.preprocessing import LabelEncoder\n",
    "\n",
    "data = pd.read_csv('../autodl-tmp/MBTI 500.csv')\n",
    "\n",
    "\n",
    "label_encoder = LabelEncoder()\n",
    "expanded_data['encoded_labels'] = label_encoder.fit_transform(expanded_data['type']) \n",
    "\n",
    "\n",
    "X = expanded_data['filtered_posts']\n",
    "y = expanded_data['encoded_labels']"
   ]
  },
  {
   "cell_type": "code",
   "execution_count": 15,
   "id": "53510826-2135-4b93-8b9a-8fef0d85cac8",
   "metadata": {},
   "outputs": [],
   "source": [
    "from sklearn.utils import resample\n",
    "\n",
    "class_counts = expanded_data['encoded_labels'].value_counts()\n",
    "\n",
    "max_class_count = class_counts.max()\n",
    "\n",
    "data_upsampled = pd.DataFrame()\n",
    "for class_index, count in class_counts.items():\n",
    "    data_class = expanded_data[expanded_data['encoded_labels'] == class_index]\n",
    "    data_class_upsampled = resample(data_class, \n",
    "                                    replace=True, \n",
    "                                    n_samples=max_class_count, \n",
    "                                    random_state=123)\n",
    "    data_upsampled = pd.concat([data_upsampled, data_class_upsampled])\n",
    "\n",
    "data_upsampled = data_upsampled.sample(frac=1).reset_index(drop=True)"
   ]
  },
  {
   "cell_type": "code",
   "execution_count": 16,
   "id": "2f8a5f77-942b-4acf-b06e-ef46663b759b",
   "metadata": {},
   "outputs": [
    {
     "name": "stderr",
     "output_type": "stream",
     "text": [
      "2025-04-20 20:19:47.640792: I tensorflow/core/platform/cpu_feature_guard.cc:182] This TensorFlow binary is optimized to use available CPU instructions in performance-critical operations.\n",
      "To enable the following instructions: AVX2 FMA, in other operations, rebuild TensorFlow with the appropriate compiler flags.\n",
      "2025-04-20 20:19:48.266065: W tensorflow/compiler/tf2tensorrt/utils/py_utils.cc:38] TF-TRT Warning: Could not find TensorRT\n",
      "/root/miniconda3/lib/python3.8/site-packages/torchvision/datapoints/__init__.py:12: UserWarning: The torchvision.datapoints and torchvision.transforms.v2 namespaces are still Beta. While we do not expect major breaking changes, some APIs may still change according to user feedback. Please submit any feedback you may have in this issue: https://github.com/pytorch/vision/issues/6753, and you can also check out https://github.com/pytorch/vision/issues/7319 to learn more about the APIs that we suspect might involve future changes. You can silence this warning by calling torchvision.disable_beta_transforms_warning().\n",
      "  warnings.warn(_BETA_TRANSFORMS_WARNING)\n",
      "/root/miniconda3/lib/python3.8/site-packages/torchvision/transforms/v2/__init__.py:54: UserWarning: The torchvision.datapoints and torchvision.transforms.v2 namespaces are still Beta. While we do not expect major breaking changes, some APIs may still change according to user feedback. Please submit any feedback you may have in this issue: https://github.com/pytorch/vision/issues/6753, and you can also check out https://github.com/pytorch/vision/issues/7319 to learn more about the APIs that we suspect might involve future changes. You can silence this warning by calling torchvision.disable_beta_transforms_warning().\n",
      "  warnings.warn(_BETA_TRANSFORMS_WARNING)\n"
     ]
    }
   ],
   "source": [
    "import torch\n",
    "from torch.utils.data import DataLoader, RandomSampler, TensorDataset\n",
    "from transformers import BertTokenizer, BertForSequenceClassification, AdamW\n",
    "from sklearn.model_selection import train_test_split\n",
    "from sklearn.metrics import accuracy_score, precision_recall_fscore_support\n",
    "import pandas as pd\n",
    "import numpy as np"
   ]
  },
  {
   "cell_type": "code",
   "execution_count": null,
   "id": "f650d9d7-324a-4f8f-8489-f5372b037d25",
   "metadata": {},
   "outputs": [
    {
     "data": {
      "application/json": {
       "ascii": false,
       "bar_format": null,
       "colour": null,
       "elapsed": 0.00783848762512207,
       "initial": 0,
       "n": 0,
       "ncols": null,
       "nrows": null,
       "postfix": null,
       "prefix": "Encoding",
       "rate": null,
       "total": 399376,
       "unit": "it",
       "unit_divisor": 1000,
       "unit_scale": false
      },
      "application/vnd.jupyter.widget-view+json": {
       "model_id": "ff2443a628f94f5099316c5258c3279a",
       "version_major": 2,
       "version_minor": 0
      },
      "text/plain": [
       "Encoding:   0%|          | 0/399376 [00:00<?, ?it/s]"
      ]
     },
     "metadata": {},
     "output_type": "display_data"
    },
    {
     "name": "stderr",
     "output_type": "stream",
     "text": [
      "IOPub message rate exceeded.\n",
      "The Jupyter server will temporarily stop sending output\n",
      "to the client in order to avoid crashing it.\n",
      "To change this limit, set the config variable\n",
      "`--ServerApp.iopub_msg_rate_limit`.\n",
      "\n",
      "Current values:\n",
      "ServerApp.iopub_msg_rate_limit=1000.0 (msgs/sec)\n",
      "ServerApp.rate_limit_window=3.0 (secs)\n",
      "\n",
      "IOPub message rate exceeded.\n",
      "The Jupyter server will temporarily stop sending output\n",
      "to the client in order to avoid crashing it.\n",
      "To change this limit, set the config variable\n",
      "`--ServerApp.iopub_msg_rate_limit`.\n",
      "\n",
      "Current values:\n",
      "ServerApp.iopub_msg_rate_limit=1000.0 (msgs/sec)\n",
      "ServerApp.rate_limit_window=3.0 (secs)\n",
      "\n"
     ]
    }
   ],
   "source": [
    "from concurrent.futures import ProcessPoolExecutor\n",
    "from transformers import BertTokenizer\n",
    "import torch\n",
    "from tqdm.notebook import tqdm\n",
    "\n",
    "\n",
    "def encode_text(sent, tokenizer, max_len):\n",
    "    encoded = tokenizer.encode_plus(\n",
    "        sent,\n",
    "        add_special_tokens=True,\n",
    "        max_length=max_len,\n",
    "        padding='max_length',\n",
    "        return_attention_mask=True,\n",
    "        truncation=True\n",
    "    )\n",
    "    return encoded['input_ids'], encoded['attention_mask']\n",
    "\n",
    "\n",
    "def bert_encode(data, max_len):\n",
    "    model_dir = \"../autodl-tmp/uncased_L-12_H-768_A-12\"\n",
    "    tokenizer = BertTokenizer.from_pretrained(\n",
    "    model_dir,\n",
    "    local_files_only=True \n",
    "    )\n",
    "    input_ids = []\n",
    "    attention_masks = []\n",
    "\n",
    "\n",
    "    with ProcessPoolExecutor() as executor:\n",
    "        results = list(tqdm(executor.map(encode_text, data, [tokenizer]*len(data), [max_len]*len(data)), total=len(data), desc=\"Encoding\"))\n",
    "\n",
    "\n",
    "    for ids, masks in results:\n",
    "        input_ids.append(ids)\n",
    "        attention_masks.append(masks)\n",
    "\n",
    "\n",
    "    input_ids = torch.tensor(input_ids)\n",
    "    attention_masks = torch.tensor(attention_masks)\n",
    "\n",
    "    return input_ids, attention_masks\n",
    "\n",
    "input_ids, attention_masks = bert_encode(data_upsampled['filtered_posts'], max_len=64)"
   ]
  },
  {
   "cell_type": "code",
   "execution_count": 18,
   "id": "49f388d7-4c9b-40b8-ba97-3efcd4433446",
   "metadata": {},
   "outputs": [],
   "source": [
    "labels = torch.tensor(data_upsampled['encoded_labels'].values)"
   ]
  },
  {
   "cell_type": "code",
   "execution_count": 19,
   "id": "2ede9923-4d12-4271-9a1a-2976ceb0311c",
   "metadata": {},
   "outputs": [],
   "source": [
    "from sklearn.model_selection import train_test_split\n",
    "from torch.utils.data import DataLoader, RandomSampler, SequentialSampler, TensorDataset\n",
    "\n",
    "\n",
    "\n",
    "train_inputs, temp_inputs, train_labels, temp_labels = train_test_split(input_ids, labels, random_state=2018, test_size=0.2)\n",
    "validation_inputs, test_inputs, validation_labels, test_labels = train_test_split(temp_inputs, temp_labels, random_state=2018, test_size=0.5)\n",
    "\n",
    "train_masks, temp_masks, _, _ = train_test_split(attention_masks, labels, random_state=2018, test_size=0.2)\n",
    "validation_masks, test_masks, _, _ = train_test_split(temp_masks, temp_labels, random_state=2018, test_size=0.5)\n",
    "\n",
    "\n",
    "train_dataset = TensorDataset(train_inputs, train_masks, train_labels)\n",
    "validation_dataset = TensorDataset(validation_inputs, validation_masks, validation_labels)\n",
    "test_dataset = TensorDataset(test_inputs, test_masks, test_labels)\n",
    "\n",
    "\n",
    "train_dataloader = DataLoader(train_dataset, sampler=RandomSampler(train_dataset), batch_size=32)\n",
    "validation_dataloader = DataLoader(validation_dataset, sampler=SequentialSampler(validation_dataset), batch_size=32)\n",
    "test_dataloader = DataLoader(test_dataset, sampler=SequentialSampler(test_dataset), batch_size=32)"
   ]
  },
  {
   "cell_type": "code",
   "execution_count": 20,
   "id": "7f522f58-0850-4621-b165-8482672102c6",
   "metadata": {
    "tags": []
   },
   "outputs": [
    {
     "name": "stderr",
     "output_type": "stream",
     "text": [
      "/root/miniconda3/lib/python3.8/site-packages/torch/_utils.py:776: UserWarning: TypedStorage is deprecated. It will be removed in the future and UntypedStorage will be the only storage class. This should only matter to you if you are using storages directly.  To access UntypedStorage directly, use tensor.untyped_storage() instead of tensor.storage()\n",
      "  return self.fget.__get__(instance, owner)()\n",
      "Some weights of BertForSequenceClassification were not initialized from the model checkpoint at ../autodl-tmp/uncased_L-12_H-768_A-12 and are newly initialized: ['classifier.bias', 'classifier.weight']\n",
      "You should probably TRAIN this model on a down-stream task to be able to use it for predictions and inference.\n"
     ]
    }
   ],
   "source": [
    "from transformers import BertTokenizer, BertForSequenceClassification\n",
    "\n",
    "local_dir = \"../autodl-tmp/uncased_L-12_H-768_A-12\"\n",
    "\n",
    "tokenizer = BertTokenizer.from_pretrained(\n",
    "    local_dir,\n",
    "    local_files_only=True\n",
    ")\n",
    "model = BertForSequenceClassification.from_pretrained(\n",
    "    local_dir,\n",
    "    num_labels=len(label_encoder.classes_),\n",
    "    output_attentions=False,\n",
    "    output_hidden_states=False,\n",
    "    local_files_only=True\n",
    ")"
   ]
  },
  {
   "cell_type": "code",
   "execution_count": 21,
   "id": "988b43c6-f724-4537-8078-19b28c4c9f76",
   "metadata": {},
   "outputs": [
    {
     "name": "stderr",
     "output_type": "stream",
     "text": [
      "/root/miniconda3/lib/python3.8/site-packages/transformers/optimization.py:591: FutureWarning: This implementation of AdamW is deprecated and will be removed in a future version. Use the PyTorch implementation torch.optim.AdamW instead, or set `no_deprecation_warning=True` to disable this warning\n",
      "  warnings.warn(\n"
     ]
    }
   ],
   "source": [
    "\n",
    "device = torch.device(\"cuda\" if torch.cuda.is_available() else \"cpu\")\n",
    "model.to(device)\n",
    "\n",
    "\n",
    "optimizer = AdamW(model.parameters(), lr=2e-5, eps=1e-8)"
   ]
  },
  {
   "cell_type": "code",
   "execution_count": 22,
   "id": "536de40a-cf04-46f2-95af-e52a6925dc3b",
   "metadata": {},
   "outputs": [],
   "source": [
    "\n",
    "def train(model, train_dataloader, optimizer):\n",
    "    model.train()\n",
    "    total_loss = 0\n",
    "\n",
    "    for batch in tqdm(train_dataloader, desc=\"Training\"):\n",
    "        batch = tuple(t.to(device) for t in batch)\n",
    "        b_input_ids, b_input_mask, b_labels = batch\n",
    "\n",
    "        model.zero_grad()\n",
    "        outputs = model(b_input_ids, token_type_ids=None, attention_mask=b_input_mask, labels=b_labels)\n",
    "        loss = outputs.loss\n",
    "        total_loss += loss.item()\n",
    "        loss.backward()\n",
    "\n",
    "        optimizer.step()\n",
    "\n",
    "    avg_loss = total_loss / len(train_dataloader)\n",
    "    return avg_loss"
   ]
  },
  {
   "cell_type": "code",
   "execution_count": 23,
   "id": "2b351c97-188e-442a-ac01-888cdb2c2e92",
   "metadata": {},
   "outputs": [],
   "source": [
    "def extract_dimension_labels(encoded_labels, label_encoder):\n",
    "\n",
    "    decoded_labels = label_encoder.inverse_transform(encoded_labels)\n",
    "    dimensions = {\n",
    "        'EI': [1 if label[0] == 'E' else 0 for label in decoded_labels],\n",
    "        'NS': [1 if label[1] == 'N' else 0 for label in decoded_labels],\n",
    "        'FT': [1 if label[2] == 'F' else 0 for label in decoded_labels],\n",
    "        'JP': [1 if label[3] == 'J' else 0 for label in decoded_labels]\n",
    "    }\n",
    "    return dimensions\n",
    "def evaluate(model, validation_dataloader, label_encoder):\n",
    "    model.eval()\n",
    "    predictions, true_labels = [], []\n",
    "\n",
    "    for batch in tqdm(validation_dataloader, desc=\"Evaluating\"):\n",
    "        batch = tuple(t.to(device) for t in batch)\n",
    "        b_input_ids, b_input_mask, b_labels = batch\n",
    "\n",
    "        with torch.no_grad():\n",
    "            outputs = model(b_input_ids, token_type_ids=None, attention_mask=b_input_mask)\n",
    "        \n",
    "        logits = outputs.logits\n",
    "        logits = logits.detach().cpu().numpy()\n",
    "        label_ids = b_labels.to('cpu').numpy()\n",
    "        \n",
    "        predictions.extend(np.argmax(logits, axis=1).flatten())\n",
    "        true_labels.extend(label_ids.flatten())\n",
    "\n",
    "\n",
    "    overall_accuracy = accuracy_score(true_labels, predictions)\n",
    "    overall_precision, overall_recall, overall_f1, _ = precision_recall_fscore_support(true_labels, predictions, average='weighted')\n",
    "\n",
    "\n",
    "    true_dimensions = extract_dimension_labels(true_labels, label_encoder)\n",
    "    pred_dimensions = extract_dimension_labels(predictions, label_encoder)\n",
    "    dimension_accuracies = {}\n",
    "    for dimension, true_dim_labels in true_dimensions.items():\n",
    "        dimension_accuracies[dimension] = accuracy_score(true_dim_labels, pred_dimensions[dimension])\n",
    "\n",
    "    return overall_accuracy, overall_precision, overall_recall, overall_f1, dimension_accuracies"
   ]
  },
  {
   "cell_type": "code",
   "execution_count": null,
   "id": "88f79358-0417-4f5c-95ec-b5d07ad2ac1f",
   "metadata": {
    "tags": []
   },
   "outputs": [
    {
     "name": "stdout",
     "output_type": "stream",
     "text": [
      "Epoch 1/10\n",
      "----------\n"
     ]
    },
    {
     "data": {
      "application/json": {
       "ascii": false,
       "bar_format": null,
       "colour": null,
       "elapsed": 0.016073226928710938,
       "initial": 0,
       "n": 0,
       "ncols": null,
       "nrows": null,
       "postfix": null,
       "prefix": "Training",
       "rate": null,
       "total": 9985,
       "unit": "it",
       "unit_divisor": 1000,
       "unit_scale": false
      },
      "application/vnd.jupyter.widget-view+json": {
       "model_id": "986f367285ad4e9ab39a3a8f8bc3f32c",
       "version_major": 2,
       "version_minor": 0
      },
      "text/plain": [
       "Training:   0%|          | 0/9985 [00:00<?, ?it/s]"
      ]
     },
     "metadata": {},
     "output_type": "display_data"
    },
    {
     "name": "stdout",
     "output_type": "stream",
     "text": [
      "Training loss: 1.1262623289852782\n"
     ]
    },
    {
     "data": {
      "application/json": {
       "ascii": false,
       "bar_format": null,
       "colour": null,
       "elapsed": 0.006399631500244141,
       "initial": 0,
       "n": 0,
       "ncols": null,
       "nrows": null,
       "postfix": null,
       "prefix": "Evaluating",
       "rate": null,
       "total": 1249,
       "unit": "it",
       "unit_divisor": 1000,
       "unit_scale": false
      },
      "application/vnd.jupyter.widget-view+json": {
       "model_id": "6f2ff9585179418798058bf174d340df",
       "version_major": 2,
       "version_minor": 0
      },
      "text/plain": [
       "Evaluating:   0%|          | 0/1249 [00:00<?, ?it/s]"
      ]
     },
     "metadata": {},
     "output_type": "display_data"
    },
    {
     "name": "stdout",
     "output_type": "stream",
     "text": [
      "Accuracy: 0.7954078822174371\n",
      "Precision: 0.7878431107769178\n",
      "Recall: 0.7954078822174371\n",
      "F1 Score: 0.7901055445516924\n",
      "EI Accuracy: 0.9033752316089939\n",
      "NS Accuracy: 0.9716811057138565\n",
      "FT Accuracy: 0.914792929040012\n",
      "JP Accuracy: 0.8854724823476389\n",
      "Improved validation accuracy. Model saved.\n",
      "Epoch 2/10\n",
      "----------\n"
     ]
    },
    {
     "data": {
      "application/json": {
       "ascii": false,
       "bar_format": null,
       "colour": null,
       "elapsed": 0.006285667419433594,
       "initial": 0,
       "n": 0,
       "ncols": null,
       "nrows": null,
       "postfix": null,
       "prefix": "Training",
       "rate": null,
       "total": 9985,
       "unit": "it",
       "unit_divisor": 1000,
       "unit_scale": false
      },
      "application/vnd.jupyter.widget-view+json": {
       "model_id": "a3b8b14d0af246ffa212021858b708e6",
       "version_major": 2,
       "version_minor": 0
      },
      "text/plain": [
       "Training:   0%|          | 0/9985 [00:00<?, ?it/s]"
      ]
     },
     "metadata": {},
     "output_type": "display_data"
    },
    {
     "name": "stdout",
     "output_type": "stream",
     "text": [
      "Training loss: 0.5217787113400716\n"
     ]
    },
    {
     "data": {
      "application/json": {
       "ascii": false,
       "bar_format": null,
       "colour": null,
       "elapsed": 0.0064694881439208984,
       "initial": 0,
       "n": 0,
       "ncols": null,
       "nrows": null,
       "postfix": null,
       "prefix": "Evaluating",
       "rate": null,
       "total": 1249,
       "unit": "it",
       "unit_divisor": 1000,
       "unit_scale": false
      },
      "application/vnd.jupyter.widget-view+json": {
       "model_id": "24ca29303bca4e1b825ff8d17d10d232",
       "version_major": 2,
       "version_minor": 0
      },
      "text/plain": [
       "Evaluating:   0%|          | 0/1249 [00:00<?, ?it/s]"
      ]
     },
     "metadata": {},
     "output_type": "display_data"
    },
    {
     "name": "stdout",
     "output_type": "stream",
     "text": [
      "Accuracy: 0.8528218739045521\n",
      "Precision: 0.8502933284176152\n",
      "Recall: 0.8528218739045521\n",
      "F1 Score: 0.8490210278281392\n",
      "EI Accuracy: 0.9410336020832291\n",
      "NS Accuracy: 0.9829986479042516\n",
      "FT Accuracy: 0.9396314287145074\n",
      "JP Accuracy: 0.9159447143071762\n",
      "Improved validation accuracy. Model saved.\n",
      "Epoch 3/10\n",
      "----------\n"
     ]
    },
    {
     "data": {
      "application/json": {
       "ascii": false,
       "bar_format": null,
       "colour": null,
       "elapsed": 0.0059583187103271484,
       "initial": 0,
       "n": 0,
       "ncols": null,
       "nrows": null,
       "postfix": null,
       "prefix": "Training",
       "rate": null,
       "total": 9985,
       "unit": "it",
       "unit_divisor": 1000,
       "unit_scale": false
      },
      "application/vnd.jupyter.widget-view+json": {
       "model_id": "616acd35ff9e45bab99d37836d764fed",
       "version_major": 2,
       "version_minor": 0
      },
      "text/plain": [
       "Training:   0%|          | 0/9985 [00:00<?, ?it/s]"
      ]
     },
     "metadata": {},
     "output_type": "display_data"
    },
    {
     "name": "stdout",
     "output_type": "stream",
     "text": [
      "Training loss: 0.3431644478127263\n"
     ]
    },
    {
     "data": {
      "application/json": {
       "ascii": false,
       "bar_format": null,
       "colour": null,
       "elapsed": 0.006326913833618164,
       "initial": 0,
       "n": 0,
       "ncols": null,
       "nrows": null,
       "postfix": null,
       "prefix": "Evaluating",
       "rate": null,
       "total": 1249,
       "unit": "it",
       "unit_divisor": 1000,
       "unit_scale": false
      },
      "application/vnd.jupyter.widget-view+json": {
       "model_id": "78bc845ccb64426fad8a9e048e8f4897",
       "version_major": 2,
       "version_minor": 0
      },
      "text/plain": [
       "Evaluating:   0%|          | 0/1249 [00:00<?, ?it/s]"
      ]
     },
     "metadata": {},
     "output_type": "display_data"
    },
    {
     "name": "stdout",
     "output_type": "stream",
     "text": [
      "Accuracy: 0.8974911112223947\n",
      "Precision: 0.8951372070133545\n",
      "Recall: 0.8974911112223947\n",
      "F1 Score: 0.8949089720663205\n",
      "EI Accuracy: 0.9564074315188542\n",
      "NS Accuracy: 0.9931644048274826\n",
      "FT Accuracy: 0.9577094496469528\n",
      "JP Accuracy: 0.9378787120036056\n",
      "Improved validation accuracy. Model saved.\n",
      "Epoch 4/10\n",
      "----------\n"
     ]
    },
    {
     "data": {
      "application/json": {
       "ascii": false,
       "bar_format": null,
       "colour": null,
       "elapsed": 0.0062406063079833984,
       "initial": 0,
       "n": 0,
       "ncols": null,
       "nrows": null,
       "postfix": null,
       "prefix": "Training",
       "rate": null,
       "total": 9985,
       "unit": "it",
       "unit_divisor": 1000,
       "unit_scale": false
      },
      "application/vnd.jupyter.widget-view+json": {
       "model_id": "4e5976f19391486e83cd65262e749015",
       "version_major": 2,
       "version_minor": 0
      },
      "text/plain": [
       "Training:   0%|          | 0/9985 [00:00<?, ?it/s]"
      ]
     },
     "metadata": {},
     "output_type": "display_data"
    },
    {
     "name": "stdout",
     "output_type": "stream",
     "text": [
      "Training loss: 0.2327865057867384\n"
     ]
    },
    {
     "data": {
      "application/json": {
       "ascii": false,
       "bar_format": null,
       "colour": null,
       "elapsed": 0.00678706169128418,
       "initial": 0,
       "n": 0,
       "ncols": null,
       "nrows": null,
       "postfix": null,
       "prefix": "Evaluating",
       "rate": null,
       "total": 1249,
       "unit": "it",
       "unit_divisor": 1000,
       "unit_scale": false
      },
      "application/vnd.jupyter.widget-view+json": {
       "model_id": "0396b257fa3f4877977c74c21f9283e5",
       "version_major": 2,
       "version_minor": 0
      },
      "text/plain": [
       "Evaluating:   0%|          | 0/1249 [00:00<?, ?it/s]"
      ]
     },
     "metadata": {},
     "output_type": "display_data"
    },
    {
     "name": "stdout",
     "output_type": "stream",
     "text": [
      "Accuracy: 0.9104612148830687\n",
      "Precision: 0.9072678555460575\n",
      "Recall: 0.9104612148830687\n",
      "F1 Score: 0.9074921742325489\n",
      "EI Accuracy: 0.9603635635234614\n",
      "NS Accuracy: 0.9899594371275477\n",
      "FT Accuracy: 0.9628924833491912\n",
      "JP Accuracy: 0.947819119635435\n",
      "Improved validation accuracy. Model saved.\n",
      "Epoch 5/10\n",
      "----------\n"
     ]
    },
    {
     "data": {
      "application/json": {
       "ascii": false,
       "bar_format": null,
       "colour": null,
       "elapsed": 0.006124019622802734,
       "initial": 0,
       "n": 0,
       "ncols": null,
       "nrows": null,
       "postfix": null,
       "prefix": "Training",
       "rate": null,
       "total": 9985,
       "unit": "it",
       "unit_divisor": 1000,
       "unit_scale": false
      },
      "application/vnd.jupyter.widget-view+json": {
       "model_id": "4b44bf36d06a4f05abd398d6b4b95bd8",
       "version_major": 2,
       "version_minor": 0
      },
      "text/plain": [
       "Training:   0%|          | 0/9985 [00:00<?, ?it/s]"
      ]
     },
     "metadata": {},
     "output_type": "display_data"
    },
    {
     "name": "stdout",
     "output_type": "stream",
     "text": [
      "Training loss: 0.1618021469469274\n"
     ]
    },
    {
     "data": {
      "application/json": {
       "ascii": false,
       "bar_format": null,
       "colour": null,
       "elapsed": 0.006230592727661133,
       "initial": 0,
       "n": 0,
       "ncols": null,
       "nrows": null,
       "postfix": null,
       "prefix": "Evaluating",
       "rate": null,
       "total": 1249,
       "unit": "it",
       "unit_divisor": 1000,
       "unit_scale": false
      },
      "application/vnd.jupyter.widget-view+json": {
       "model_id": "826c30f80ca84cc5a12baa7481219170",
       "version_major": 2,
       "version_minor": 0
      },
      "text/plain": [
       "Evaluating:   0%|          | 0/1249 [00:00<?, ?it/s]"
      ]
     },
     "metadata": {},
     "output_type": "display_data"
    },
    {
     "name": "stdout",
     "output_type": "stream",
     "text": [
      "Accuracy: 0.9273874505483499\n",
      "Precision: 0.9250364430281868\n",
      "Recall: 0.9273874505483499\n",
      "F1 Score: 0.9254753829785014\n",
      "EI Accuracy: 0.9722319595372828\n",
      "NS Accuracy: 0.9913115328759577\n",
      "FT Accuracy: 0.970078621863889\n",
      "JP Accuracy: 0.9573338674946167\n",
      "Improved validation accuracy. Model saved.\n",
      "Epoch 6/10\n",
      "----------\n"
     ]
    },
    {
     "data": {
      "application/json": {
       "ascii": false,
       "bar_format": null,
       "colour": null,
       "elapsed": 0.006207466125488281,
       "initial": 0,
       "n": 0,
       "ncols": null,
       "nrows": null,
       "postfix": null,
       "prefix": "Training",
       "rate": null,
       "total": 9985,
       "unit": "it",
       "unit_divisor": 1000,
       "unit_scale": false
      },
      "application/vnd.jupyter.widget-view+json": {
       "model_id": "3b84705775cc4200bdad366349400606",
       "version_major": 2,
       "version_minor": 0
      },
      "text/plain": [
       "Training:   0%|          | 0/9985 [00:00<?, ?it/s]"
      ]
     },
     "metadata": {},
     "output_type": "display_data"
    },
    {
     "name": "stdout",
     "output_type": "stream",
     "text": [
      "Training loss: 0.11972157720275971\n"
     ]
    },
    {
     "data": {
      "application/json": {
       "ascii": false,
       "bar_format": null,
       "colour": null,
       "elapsed": 0.006277322769165039,
       "initial": 0,
       "n": 0,
       "ncols": null,
       "nrows": null,
       "postfix": null,
       "prefix": "Evaluating",
       "rate": null,
       "total": 1249,
       "unit": "it",
       "unit_divisor": 1000,
       "unit_scale": false
      },
      "application/vnd.jupyter.widget-view+json": {
       "model_id": "e4a489b30694436b88e53aee13ccee79",
       "version_major": 2,
       "version_minor": 0
      },
      "text/plain": [
       "Evaluating:   0%|          | 0/1249 [00:00<?, ?it/s]"
      ]
     },
     "metadata": {},
     "output_type": "display_data"
    },
    {
     "name": "stdout",
     "output_type": "stream",
     "text": [
      "Accuracy: 0.9352997145575642\n",
      "Precision: 0.9339059431839115\n",
      "Recall: 0.9352997145575642\n",
      "F1 Score: 0.9342662362134666\n",
      "EI Accuracy: 0.9772146827582753\n",
      "NS Accuracy: 0.9959186739446142\n",
      "FT Accuracy: 0.9698282337623316\n",
      "JP Accuracy: 0.9611397666382894\n",
      "Improved validation accuracy. Model saved.\n",
      "Epoch 7/10\n",
      "----------\n"
     ]
    },
    {
     "data": {
      "application/json": {
       "ascii": false,
       "bar_format": null,
       "colour": null,
       "elapsed": 0.006401777267456055,
       "initial": 0,
       "n": 0,
       "ncols": null,
       "nrows": null,
       "postfix": null,
       "prefix": "Training",
       "rate": null,
       "total": 9985,
       "unit": "it",
       "unit_divisor": 1000,
       "unit_scale": false
      },
      "application/vnd.jupyter.widget-view+json": {
       "model_id": "bfb7b5313dda45f393e1febf48726f23",
       "version_major": 2,
       "version_minor": 0
      },
      "text/plain": [
       "Training:   0%|          | 0/9985 [00:00<?, ?it/s]"
      ]
     },
     "metadata": {},
     "output_type": "display_data"
    },
    {
     "name": "stdout",
     "output_type": "stream",
     "text": [
      "Training loss: 0.09228153269550016\n"
     ]
    },
    {
     "data": {
      "application/json": {
       "ascii": false,
       "bar_format": null,
       "colour": null,
       "elapsed": 0.00677943229675293,
       "initial": 0,
       "n": 0,
       "ncols": null,
       "nrows": null,
       "postfix": null,
       "prefix": "Evaluating",
       "rate": null,
       "total": 1249,
       "unit": "it",
       "unit_divisor": 1000,
       "unit_scale": false
      },
      "application/vnd.jupyter.widget-view+json": {
       "model_id": "5932b0e9ccd143aabb683b70ad56badc",
       "version_major": 2,
       "version_minor": 0
      },
      "text/plain": [
       "Evaluating:   0%|          | 0/1249 [00:00<?, ?it/s]"
      ]
     },
     "metadata": {},
     "output_type": "display_data"
    },
    {
     "name": "stdout",
     "output_type": "stream",
     "text": [
      "Accuracy: 0.9350994040763183\n",
      "Precision: 0.9333939826776946\n",
      "Recall: 0.9350994040763183\n",
      "F1 Score: 0.9336122495693501\n",
      "EI Accuracy: 0.9762632079723571\n",
      "NS Accuracy: 0.9924883569532775\n",
      "FT Accuracy: 0.9703290099654465\n",
      "JP Accuracy: 0.9613901547398468\n",
      "No improvement in validation accuracy.\n",
      "Epoch 8/10\n",
      "----------\n"
     ]
    },
    {
     "data": {
      "application/json": {
       "ascii": false,
       "bar_format": null,
       "colour": null,
       "elapsed": 0.005769252777099609,
       "initial": 0,
       "n": 0,
       "ncols": null,
       "nrows": null,
       "postfix": null,
       "prefix": "Training",
       "rate": null,
       "total": 9985,
       "unit": "it",
       "unit_divisor": 1000,
       "unit_scale": false
      },
      "application/vnd.jupyter.widget-view+json": {
       "model_id": "3f897b50f9f24a1aa0abe27653faf17a",
       "version_major": 2,
       "version_minor": 0
      },
      "text/plain": [
       "Training:   0%|          | 0/9985 [00:00<?, ?it/s]"
      ]
     },
     "metadata": {},
     "output_type": "display_data"
    },
    {
     "name": "stdout",
     "output_type": "stream",
     "text": [
      "Training loss: 0.07402244344011542\n"
     ]
    },
    {
     "data": {
      "application/json": {
       "ascii": false,
       "bar_format": null,
       "colour": null,
       "elapsed": 0.006216764450073242,
       "initial": 0,
       "n": 0,
       "ncols": null,
       "nrows": null,
       "postfix": null,
       "prefix": "Evaluating",
       "rate": null,
       "total": 1249,
       "unit": "it",
       "unit_divisor": 1000,
       "unit_scale": false
      },
      "application/vnd.jupyter.widget-view+json": {
       "model_id": "1347653bcd314251bfb527530b49795a",
       "version_major": 2,
       "version_minor": 0
      },
      "text/plain": [
       "Evaluating:   0%|          | 0/1249 [00:00<?, ?it/s]"
      ]
     },
     "metadata": {},
     "output_type": "display_data"
    },
    {
     "name": "stdout",
     "output_type": "stream",
     "text": [
      "Accuracy: 0.9367018879262857\n",
      "Precision: 0.9351862311978444\n",
      "Recall: 0.9367018879262857\n",
      "F1 Score: 0.9355476235222987\n",
      "EI Accuracy: 0.9778406530121688\n",
      "NS Accuracy: 0.9939406079423105\n",
      "FT Accuracy: 0.9698031949521758\n",
      "JP Accuracy: 0.9615153487906255\n",
      "Improved validation accuracy. Model saved.\n",
      "Epoch 9/10\n",
      "----------\n"
     ]
    },
    {
     "data": {
      "application/json": {
       "ascii": false,
       "bar_format": null,
       "colour": null,
       "elapsed": 0.0058155059814453125,
       "initial": 0,
       "n": 0,
       "ncols": null,
       "nrows": null,
       "postfix": null,
       "prefix": "Training",
       "rate": null,
       "total": 9985,
       "unit": "it",
       "unit_divisor": 1000,
       "unit_scale": false
      },
      "application/vnd.jupyter.widget-view+json": {
       "model_id": "12ce15619d1646678a479d628176801d",
       "version_major": 2,
       "version_minor": 0
      },
      "text/plain": [
       "Training:   0%|          | 0/9985 [00:00<?, ?it/s]"
      ]
     },
     "metadata": {},
     "output_type": "display_data"
    }
   ],
   "source": [
    "import os\n",
    "\n",
    "\n",
    "model_save_path = 'path/to/save/models'\n",
    "os.makedirs(model_save_path, exist_ok=True)\n",
    "\n",
    "epochs = 10\n",
    "best_accuracy = 0.0\n",
    "no_improve_epochs = 0\n",
    "early_stopping_patience = 3\n",
    "\n",
    "for epoch in range(epochs):\n",
    "    print(f'Epoch {epoch+1}/{epochs}')\n",
    "    print('-' * 10)\n",
    "\n",
    "\n",
    "    train_loss = train(model, train_dataloader, optimizer)\n",
    "    print(f'Training loss: {train_loss}')\n",
    "\n",
    "\n",
    "    accuracy, precision, recall, f1, dimension_accuracies = evaluate(model, validation_dataloader, label_encoder)\n",
    "    print(f'Accuracy: {accuracy}')\n",
    "    print(f'Precision: {precision}')\n",
    "    print(f'Recall: {recall}')\n",
    "    print(f'F1 Score: {f1}')\n",
    "\n",
    "\n",
    "    for dim, acc in dimension_accuracies.items():\n",
    "        print(f'{dim} Accuracy: {acc}')\n",
    "\n",
    "\n",
    "    if accuracy > best_accuracy:\n",
    "        best_accuracy = accuracy\n",
    "        no_improve_epochs = 0\n",
    "\n",
    "        torch.save(model.state_dict(), os.path.join(model_save_path, 'best_model.pth'))\n",
    "        print(\"Improved validation accuracy. Model saved.\")\n",
    "    else:\n",
    "        no_improve_epochs += 1\n",
    "        print(\"No improvement in validation accuracy.\")\n",
    "        if no_improve_epochs >= early_stopping_patience:\n",
    "            print(\"Stopping early due to no improvement.\")\n",
    "            break"
   ]
  },
  {
   "cell_type": "code",
   "execution_count": 26,
   "id": "04b44e3d-1bad-4706-a999-0fa7490e14a1",
   "metadata": {},
   "outputs": [
    {
     "data": {
      "application/json": {
       "ascii": false,
       "bar_format": null,
       "colour": null,
       "elapsed": 0.0073926448822021484,
       "initial": 0,
       "n": 0,
       "ncols": null,
       "nrows": null,
       "postfix": null,
       "prefix": "Evaluating",
       "rate": null,
       "total": 1249,
       "unit": "it",
       "unit_divisor": 1000,
       "unit_scale": false
      },
      "application/vnd.jupyter.widget-view+json": {
       "model_id": "40b79eb22f344b85b37c5cac4489702b",
       "version_major": 2,
       "version_minor": 0
      },
      "text/plain": [
       "Evaluating:   0%|          | 0/1249 [00:00<?, ?it/s]"
      ]
     },
     "metadata": {},
     "output_type": "display_data"
    },
    {
     "name": "stdout",
     "output_type": "stream",
     "text": [
      "Test Accuracy: 0.9862787320346537\n",
      "Test Precision: 0.9862798610116889\n",
      "Test Recall: 0.9862787320346537\n",
      "Test F1 Score: 0.986224986343413\n",
      "MBTI Dimension Accuracies:\n",
      "EI Accuracy: 0.9950673543993189\n",
      "NS Accuracy: 0.9988982923531474\n",
      "FT Accuracy: 0.9940157243727779\n",
      "JP Accuracy: 0.9915118433572037\n"
     ]
    }
   ],
   "source": [
    "\n",
    "best_model_path = os.path.join(model_save_path, 'best_model.pth')\n",
    "model.load_state_dict(torch.load(best_model_path))\n",
    "\n",
    "\n",
    "test_accuracy, test_precision, test_recall, test_f1, dimension_accuracies = evaluate(model, test_dataloader, label_encoder)\n",
    "\n",
    "print(f'Test Accuracy: {test_accuracy}')\n",
    "print(f'Test Precision: {test_precision}')\n",
    "print(f'Test Recall: {test_recall}')\n",
    "print(f'Test F1 Score: {test_f1}')\n",
    "\n",
    "print(\"MBTI Dimension Accuracies:\")\n",
    "for dimension, accuracy in dimension_accuracies.items():\n",
    "    print(f\"{dimension} Accuracy: {accuracy}\")"
   ]
  },
  {
   "cell_type": "code",
   "execution_count": null,
   "id": "cba4e64b-76cf-4baf-b4b5-3c603d146963",
   "metadata": {},
   "outputs": [],
   "source": []
  }
 ],
 "metadata": {
  "kernelspec": {
   "display_name": "Python 3 (ipykernel)",
   "language": "python",
   "name": "python3"
  },
  "language_info": {
   "codemirror_mode": {
    "name": "ipython",
    "version": 3
   },
   "file_extension": ".py",
   "mimetype": "text/x-python",
   "name": "python",
   "nbconvert_exporter": "python",
   "pygments_lexer": "ipython3",
   "version": "3.8.10"
  }
 },
 "nbformat": 4,
 "nbformat_minor": 5
}
